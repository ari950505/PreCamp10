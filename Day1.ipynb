{
 "cells": [
  {
   "cell_type": "markdown",
   "metadata": {},
   "source": [
    "# 코드캠프 프리캠프 10기 \n",
    "## OT 첫 날 - DAY1"
   ]
  },
  {
   "cell_type": "markdown",
   "metadata": {},
   "source": [
    "### 개발자의 사고방식: \n",
    "- '글'(코딩)로 (화면의)'동작'을 통제하는 것."
   ]
  },
  {
   "cell_type": "markdown",
   "metadata": {},
   "source": [
    "## 가장 필요한 3가지\n",
    "#### 1. Patience 5000000%\n",
    "#### 2. Google-Fu 2000000%\n",
    "#### 3. Passion 1500000%"
   ]
  },
  {
   "cell_type": "markdown",
   "metadata": {},
   "source": [
    "## HTML : Hyper Text Markup Language \n",
    "markup: (텍스트,문서 등)표시 및 지정 표기"
   ]
  },
  {
   "cell_type": "markdown",
   "metadata": {},
   "source": [
    "### < tag > : 약속된 명령어 -> 고유한 기능 "
   ]
  },
  {
   "cell_type": "markdown",
   "metadata": {},
   "source": [
    "### HTML 핵심 \n",
    "#### 1. 태그의 특징(inline/block) \n",
    "#### 2. 종속태그 \n",
    "#### 3. HTMl 문서 구조"
   ]
  },
  {
   "cell_type": "markdown",
   "metadata": {},
   "source": [
    "### 태그의 특징 \n",
    "- block : 페이지의 가로 넓이 전체를 차지하는 요소 \n",
    "- inline : 자신의 크리만큼만 차지하는 요소 "
   ]
  },
  {
   "cell_type": "markdown",
   "metadata": {},
   "source": [
    "### 종속 태그\n",
    "- 선택박스 태그\n",
    "- 목록 태그 \n",
    "- 표 태그  "
   ]
  },
  {
   "cell_type": "markdown",
   "metadata": {},
   "source": [
    "### HTML 문서 구조 \n",
    "```\n",
    "<html>\n",
    "    <head>\n",
    "        검색엔진을 위한 영역\n",
    "    </head>\n",
    "    <body>\n",
    "        브라우저에서 보여지는 영역\n",
    "    </body>\n",
    "</html>\n",
    "```"
   ]
  },
  {
   "cell_type": "markdown",
   "metadata": {},
   "source": [
    "실습타임 "
   ]
  },
  {
   "cell_type": "markdown",
   "metadata": {},
   "source": [
    "# CSS"
   ]
  },
  {
   "cell_type": "markdown",
   "metadata": {},
   "source": [
    "### 특성 - 색, 크기, 정렬\n",
    "color: red;\n",
    "border-color:#FF0000;\n",
    "background-color : rgb(255,0,0);\n",
    "\n",
    "### CSS 사용방법 \n",
    "- 1. html 태그속성에 입력\n",
    "- 2. <style> 태그에 입력\n",
    "- 3. CSS 파일 만들어 불러오기 "
   ]
  },
  {
   "cell_type": "markdown",
   "metadata": {},
   "source": [
    "태그를 선택해서 꾸미는 선택자 \n",
    "\n",
    "- 1. * 선택자\n",
    "- 2. tag 선택자\n",
    "------------------\n",
    "- 3. class 선택자 class = 'pw' -> .pw\n",
    "- 4. id 선택자  id = 'confirm' -> #confirm\n",
    "- 5. inline-style 선택자\n",
    "--------------------\n",
    "- 6. !important 최우선 선택자"
   ]
  },
  {
   "cell_type": "markdown",
   "metadata": {},
   "source": [
    "### box-sizing 중요!!! (복습필요)\n",
    "border-box : padding을 조절하면서 contents 크기 조절됨.  \n",
    "contents"
   ]
  },
  {
   "cell_type": "code",
   "execution_count": null,
   "metadata": {},
   "outputs": [],
   "source": []
  },
  {
   "cell_type": "markdown",
   "metadata": {},
   "source": [
    "### css 연결 방법 \n",
    "- link href='css' rel='stylesheet'\n",
    "```\n",
    "<head>\n",
    "    <title>회원가입</title>\n",
    "    <link href=\"../02-css/02-signup.css\" rel=\"stylesheet\">\n",
    "</head>\n",
    "```"
   ]
  },
  {
   "cell_type": "markdown",
   "metadata": {},
   "source": [
    "실습타임 "
   ]
  },
  {
   "cell_type": "markdown",
   "metadata": {},
   "source": [
    "## flex\n",
    "### default값은 row. \n",
    "\n",
    "#### 박스를 가로로 정렬: flex-direction : row; justify:->; align-items:아래\n",
    "\n",
    "#### 박스를 세로로 정렬\n",
    "flex-direction : column; justify:->; align-items:아래\n",
    "\n",
    "#### flex-direction 이랑 justify는 항상 같은 방향\n",
    "                    alighn-items랑은 항상 다른 방향\n"
   ]
  },
  {
   "cell_type": "markdown",
   "metadata": {},
   "source": []
  },
  {
   "cell_type": "markdown",
   "metadata": {},
   "source": []
  },
  {
   "cell_type": "markdown",
   "metadata": {},
   "source": []
  },
  {
   "cell_type": "markdown",
   "metadata": {},
   "source": []
  },
  {
   "cell_type": "markdown",
   "metadata": {},
   "source": []
  },
  {
   "cell_type": "markdown",
   "metadata": {},
   "source": []
  },
  {
   "cell_type": "markdown",
   "metadata": {},
   "source": []
  }
 ],
 "metadata": {
  "language_info": {
   "name": "python"
  },
  "orig_nbformat": 4
 },
 "nbformat": 4,
 "nbformat_minor": 2
}
